{
 "cells": [
  {
   "cell_type": "markdown",
   "metadata": {},
   "source": [
    "**Importamos librerías** de OSC, Textblob y gooogletrans (traducción), Pyttsx3 (Text to speech) y otras"
   ]
  },
  {
   "cell_type": "code",
   "execution_count": 1,
   "metadata": {
    "scrolled": false
   },
   "outputs": [],
   "source": [
    "#import codecs\n",
    "#import sys\n",
    "#import os\n",
    "from pythonosc.udp_client import SimpleUDPClient\n",
    "from textblob import TextBlob\n",
    "import googletrans\n",
    "import keyboard\n",
    "import pyttsx3\n",
    "import random\n",
    "import time\n",
    "\n",
    "from numpy import interp"
   ]
  },
  {
   "cell_type": "markdown",
   "metadata": {},
   "source": [
    "**Definimos variables OSC**"
   ]
  },
  {
   "cell_type": "code",
   "execution_count": 2,
   "metadata": {},
   "outputs": [],
   "source": [
    "IP = \"192.168.1.131\"\n",
    "IP2 = \"127.0.0.1\"\n",
    "PUERTO = 9010\n",
    "client = SimpleUDPClient (IP, PUERTO)\n",
    "client2 = SimpleUDPClient (IP2, PUERTO)\n",
    "idioma =\"/idioma\"\n",
    "velocidad = \"/velocidad\"\n",
    "voxes = \"/voxes\"\n",
    "empieza = \"/start\"\n",
    "ubicacion = \"/location\"\n",
    "longitud = \"/length\"\n",
    "termina = \"/end\"\n",
    "activa = \"/activa\"\n",
    "para = \"/para\"\n",
    "textprocessing = \"/textprocessing\"\n",
    "borraultimoverso = \"/borra\""
   ]
  },
  {
   "cell_type": "markdown",
   "metadata": {},
   "source": [
    "**Definimos otras variables** Contadores, Traducción y Text to Speech"
   ]
  },
  {
   "cell_type": "code",
   "execution_count": 3,
   "metadata": {},
   "outputs": [],
   "source": [
    "count = 0\n",
    "count2 = 0\n",
    "Idioma = list(googletrans.LANGUAGES.keys())\n",
    "eng = pyttsx3.init ()\n",
    "vocesdisponibles = eng.getProperty(\"voices\")"
   ]
  },
  {
   "cell_type": "markdown",
   "metadata": {},
   "source": [
    "**ENGINE EVENTS**"
   ]
  },
  {
   "cell_type": "code",
   "execution_count": 4,
   "metadata": {},
   "outputs": [
    {
     "data": {
      "text/plain": [
       "{'topic': 'finished-utterance',\n",
       " 'cb': <function __main__.onEnd(name, completed)>}"
      ]
     },
     "execution_count": 4,
     "metadata": {},
     "output_type": "execute_result"
    }
   ],
   "source": [
    "def onStart(): \n",
    "    #print('starting')\n",
    "    client.send_message (activa,random.random())\n",
    "    client2.send_message (activa,random.random())\n",
    "    \n",
    "def onWord(name, location, length): \n",
    "    #print(\"loc\",location)\n",
    "    #print(\"len\",length) \n",
    "    #loc = float(location)\n",
    "    #le = float(length) \n",
    "    client.send_message (ubicacion,interp(location,[0,100],[0,1]))\n",
    "    client.send_message (longitud,interp(length,[1,15],[0,1])) \n",
    "    \n",
    "    client2.send_message (ubicacion,interp(location,[0,100],[0,1]))\n",
    "    client2.send_message (longitud,interp(length,[1,15],[30,200]))    \n",
    "\n",
    "def onEnd(name, completed): \n",
    "    #print('listo')\n",
    "    client.send_message (para,random.random())\n",
    "    client2.send_message (para,random.random())\n",
    "    \n",
    "eng.connect('started-utterance', onStart) \n",
    "eng.connect('started-word', onWord) \n",
    "eng.connect('finished-utterance', onEnd)"
   ]
  },
  {
   "cell_type": "markdown",
   "metadata": {},
   "source": [
    "**Insertamos el texto a traducir**"
   ]
  },
  {
   "cell_type": "code",
   "execution_count": 5,
   "metadata": {},
   "outputs": [],
   "source": [
    "Texto = TextBlob(\"\"\"Me gusta comer ensalada de vez en cuando porque hace muy bien.\"\"\")\n"
   ]
  },
  {
   "cell_type": "markdown",
   "metadata": {},
   "source": [
    "**Creamos una variable nueva para que quede el texto original como \"Texto\" y en \"trad\" se irá actualizando a medida que se vaya traduciendo de un idioma a otro**"
   ]
  },
  {
   "cell_type": "code",
   "execution_count": 6,
   "metadata": {},
   "outputs": [],
   "source": [
    "trad = Texto"
   ]
  },
  {
   "cell_type": "markdown",
   "metadata": {},
   "source": [
    "**Proceso de traducción y recitado**"
   ]
  },
  {
   "cell_type": "code",
   "execution_count": 8,
   "metadata": {
    "scrolled": true
   },
   "outputs": [
    {
     "name": "stdout",
     "output_type": "stream",
     "text": [
      "Po ha\n",
      "tl\n"
     ]
    },
    {
     "ename": "NotTranslated",
     "evalue": "Translation API returned the input string unchanged.",
     "output_type": "error",
     "traceback": [
      "\u001b[1;31m---------------------------------------------------------------------------\u001b[0m",
      "\u001b[1;31mNotTranslated\u001b[0m                             Traceback (most recent call last)",
      "\u001b[1;32m<ipython-input-8-ad12c4def27c>\u001b[0m in \u001b[0;36m<module>\u001b[1;34m\u001b[0m\n\u001b[0;32m     55\u001b[0m         \u001b[1;31m#print(str(count)+Idiom)\u001b[0m\u001b[1;33m\u001b[0m\u001b[1;33m\u001b[0m\u001b[1;33m\u001b[0m\u001b[0m\n\u001b[0;32m     56\u001b[0m \u001b[1;33m\u001b[0m\u001b[0m\n\u001b[1;32m---> 57\u001b[1;33m         \u001b[0mtrad\u001b[0m \u001b[1;33m=\u001b[0m \u001b[0mtrad\u001b[0m\u001b[1;33m.\u001b[0m\u001b[0mtranslate\u001b[0m\u001b[1;33m(\u001b[0m\u001b[0mto\u001b[0m\u001b[1;33m=\u001b[0m\u001b[0mIdiom\u001b[0m\u001b[1;33m)\u001b[0m\u001b[1;33m\u001b[0m\u001b[1;33m\u001b[0m\u001b[0m\n\u001b[0m\u001b[0;32m     58\u001b[0m \u001b[1;33m\u001b[0m\u001b[0m\n\u001b[0;32m     59\u001b[0m \u001b[1;33m\u001b[0m\u001b[0m\n",
      "\u001b[1;32m~\\Anaconda3\\lib\\site-packages\\textblob\\blob.py\u001b[0m in \u001b[0;36mtranslate\u001b[1;34m(self, from_lang, to)\u001b[0m\n\u001b[0;32m    545\u001b[0m         \"\"\"\n\u001b[0;32m    546\u001b[0m         return self.__class__(self.translator.translate(self.raw,\n\u001b[1;32m--> 547\u001b[1;33m                               from_lang=from_lang, to_lang=to))\n\u001b[0m\u001b[0;32m    548\u001b[0m \u001b[1;33m\u001b[0m\u001b[0m\n\u001b[0;32m    549\u001b[0m     \u001b[1;32mdef\u001b[0m \u001b[0mdetect_language\u001b[0m\u001b[1;33m(\u001b[0m\u001b[0mself\u001b[0m\u001b[1;33m)\u001b[0m\u001b[1;33m:\u001b[0m\u001b[1;33m\u001b[0m\u001b[1;33m\u001b[0m\u001b[0m\n",
      "\u001b[1;32m~\\Anaconda3\\lib\\site-packages\\textblob\\translate.py\u001b[0m in \u001b[0;36mtranslate\u001b[1;34m(self, source, from_lang, to_lang, host, type_)\u001b[0m\n\u001b[0;32m     59\u001b[0m             \u001b[1;32mexcept\u001b[0m \u001b[0mIndexError\u001b[0m\u001b[1;33m:\u001b[0m\u001b[1;33m\u001b[0m\u001b[1;33m\u001b[0m\u001b[0m\n\u001b[0;32m     60\u001b[0m                 \u001b[1;32mpass\u001b[0m\u001b[1;33m\u001b[0m\u001b[1;33m\u001b[0m\u001b[0m\n\u001b[1;32m---> 61\u001b[1;33m         \u001b[0mself\u001b[0m\u001b[1;33m.\u001b[0m\u001b[0m_validate_translation\u001b[0m\u001b[1;33m(\u001b[0m\u001b[0msource\u001b[0m\u001b[1;33m,\u001b[0m \u001b[0mresult\u001b[0m\u001b[1;33m)\u001b[0m\u001b[1;33m\u001b[0m\u001b[1;33m\u001b[0m\u001b[0m\n\u001b[0m\u001b[0;32m     62\u001b[0m         \u001b[1;32mreturn\u001b[0m \u001b[0mresult\u001b[0m\u001b[1;33m\u001b[0m\u001b[1;33m\u001b[0m\u001b[0m\n\u001b[0;32m     63\u001b[0m \u001b[1;33m\u001b[0m\u001b[0m\n",
      "\u001b[1;32m~\\Anaconda3\\lib\\site-packages\\textblob\\translate.py\u001b[0m in \u001b[0;36m_validate_translation\u001b[1;34m(self, source, result)\u001b[0m\n\u001b[0;32m     83\u001b[0m             \u001b[0mresult\u001b[0m \u001b[1;33m=\u001b[0m \u001b[0mresult\u001b[0m\u001b[1;33m.\u001b[0m\u001b[0mencode\u001b[0m\u001b[1;33m(\u001b[0m\u001b[1;34m'utf-8'\u001b[0m\u001b[1;33m)\u001b[0m\u001b[1;33m\u001b[0m\u001b[1;33m\u001b[0m\u001b[0m\n\u001b[0;32m     84\u001b[0m         \u001b[1;32mif\u001b[0m \u001b[0mresult\u001b[0m\u001b[1;33m.\u001b[0m\u001b[0mstrip\u001b[0m\u001b[1;33m(\u001b[0m\u001b[1;33m)\u001b[0m \u001b[1;33m==\u001b[0m \u001b[0msource\u001b[0m\u001b[1;33m.\u001b[0m\u001b[0mstrip\u001b[0m\u001b[1;33m(\u001b[0m\u001b[1;33m)\u001b[0m\u001b[1;33m:\u001b[0m\u001b[1;33m\u001b[0m\u001b[1;33m\u001b[0m\u001b[0m\n\u001b[1;32m---> 85\u001b[1;33m             \u001b[1;32mraise\u001b[0m \u001b[0mNotTranslated\u001b[0m\u001b[1;33m(\u001b[0m\u001b[1;34m'Translation API returned the input string unchanged.'\u001b[0m\u001b[1;33m)\u001b[0m\u001b[1;33m\u001b[0m\u001b[1;33m\u001b[0m\u001b[0m\n\u001b[0m\u001b[0;32m     86\u001b[0m \u001b[1;33m\u001b[0m\u001b[0m\n\u001b[0;32m     87\u001b[0m     \u001b[1;32mdef\u001b[0m \u001b[0m_request\u001b[0m\u001b[1;33m(\u001b[0m\u001b[0mself\u001b[0m\u001b[1;33m,\u001b[0m \u001b[0murl\u001b[0m\u001b[1;33m,\u001b[0m \u001b[0mhost\u001b[0m\u001b[1;33m=\u001b[0m\u001b[1;32mNone\u001b[0m\u001b[1;33m,\u001b[0m \u001b[0mtype_\u001b[0m\u001b[1;33m=\u001b[0m\u001b[1;32mNone\u001b[0m\u001b[1;33m,\u001b[0m \u001b[0mdata\u001b[0m\u001b[1;33m=\u001b[0m\u001b[1;32mNone\u001b[0m\u001b[1;33m)\u001b[0m\u001b[1;33m:\u001b[0m\u001b[1;33m\u001b[0m\u001b[1;33m\u001b[0m\u001b[0m\n",
      "\u001b[1;31mNotTranslated\u001b[0m: Translation API returned the input string unchanged."
     ]
    }
   ],
   "source": [
    "versos = trad.split(\"\\n\")\n",
    "\n",
    "for verso in versos:\n",
    "       \n",
    "    time.sleep(random.uniform(0.2,3.2))\n",
    "    rate = random.randrange(70,170)\n",
    "    voz = random.randrange(2,4)\n",
    "    \n",
    "    eng.setProperty(\"rate\",rate)\n",
    "    eng.setProperty(\"volume\",0.9)\n",
    "    eng.setProperty(\"voice\",vocesdisponibles[voz].id)\n",
    "                                     \n",
    "    client.send_message (voxes,voz-2)\n",
    "    client.send_message (velocidad,interp(rate,[70,170],[-1.5,1.5]))\n",
    "    client.send_message (textprocessing,verso)\n",
    "    \n",
    "    client2.send_message (voxes,voz-2)\n",
    "    client2.send_message (velocidad,interp(rate,[70,170],[30,60]))\n",
    "    \n",
    "    \n",
    "    #data = str(verso)\n",
    "    #udata = data.decode(\"utf-8\")\n",
    "    #asciidata = udata.encode(\"ascii\",\"ignore\")\n",
    "    \n",
    "    #verso = str(verso)\n",
    "    #versoosc = verso.encode(\"ascii\",\"ignore\")\n",
    "    \n",
    "    #print(str.decode(verso, \"utf-8\"))\n",
    "    \n",
    "    client2.send_message (textprocessing, verso)\n",
    "    client2.send_message (borraultimoverso, 0)   \n",
    "    \n",
    "    eng.say(verso)\n",
    "    eng.runAndWait()\n",
    "    \n",
    "    print(verso)\n",
    "    client2.send_message (borraultimoverso, 1)\n",
    "\n",
    "while (count < 100):\n",
    "    client2.send_message (borraultimoverso, 1)\n",
    "    count2 = 0\n",
    "    #client2.send_message(nuevovalor,random.randrange(0,4))\n",
    "    while (count2 < 2):\n",
    "    \n",
    "        Idiom = Idioma[random.randrange(len(Idioma))]\n",
    "        if Idiom == \"es\":\n",
    "            print(\"autocorrigiendo\")\n",
    "            Idiom=\"ko\"\n",
    "        client.send_message(idioma,Idiom)\n",
    "        print(Idiom)\n",
    "        \n",
    "        #eng.say(str(count)+str(Idiom))\n",
    "        #eng.runAndWait()\n",
    "        \n",
    "        #print(str(count)+Idiom)\n",
    "        \n",
    "        trad = trad.translate(to=Idiom)\n",
    "        \n",
    "        \n",
    "        count2 +=1\n",
    "        \n",
    "        time.sleep(1)\n",
    "    \n",
    "    count +=1\n",
    "    count2 = 0     \n",
    "\n",
    "    trad = trad.translate(to=\"es\")\n",
    "    versos = trad.split(\"\\n\")\n",
    "    \n",
    "    time.sleep(2)\n",
    "\n",
    "    for verso in versos:\n",
    "        \n",
    "        \n",
    "        time.sleep(random.uniform(0.2,3.2))\n",
    "        rate = random.randrange(70,170)\n",
    "        voz = random.randrange(2,4)\n",
    "    \n",
    "        eng.setProperty(\"rate\",rate)\n",
    "        eng.setProperty(\"volume\",0.9)\n",
    "        eng.setProperty(\"voice\",vocesdisponibles[voz].id)\n",
    "                                     \n",
    "        client.send_message (voxes,voz-2)\n",
    "        client.send_message (velocidad,interp(rate,[70,170],[-1.5,1.5]))\n",
    "                \n",
    "        client2.send_message (voxes,voz-2)\n",
    "        client2.send_message (velocidad,interp(rate,[70,170],[0,80]))\n",
    "        client2.send_message (textprocessing,verso)\n",
    "        \n",
    "        print(verso)\n",
    "        client2.send_message (borraultimoverso, 0)    \n",
    "        eng.say(verso)\n",
    "        eng.runAndWait()\n",
    "        client2.send_message (borraultimoverso, 1)"
   ]
  },
  {
   "cell_type": "code",
   "execution_count": null,
   "metadata": {},
   "outputs": [],
   "source": [
    "codecs?"
   ]
  },
  {
   "cell_type": "code",
   "execution_count": null,
   "metadata": {},
   "outputs": [],
   "source": [
    "verso2 = str(verso)\n",
    "\n",
    "verso3 = verso2.encode(encoding='ascii')\n",
    "\n",
    "print(type(verso3))\n",
    "print(verso3)"
   ]
  }
 ],
 "metadata": {
  "kernelspec": {
   "display_name": "Python 3",
   "language": "python",
   "name": "python3"
  },
  "language_info": {
   "codemirror_mode": {
    "name": "ipython",
    "version": 3
   },
   "file_extension": ".py",
   "mimetype": "text/x-python",
   "name": "python",
   "nbconvert_exporter": "python",
   "pygments_lexer": "ipython3",
   "version": "3.7.3"
  }
 },
 "nbformat": 4,
 "nbformat_minor": 4
}
